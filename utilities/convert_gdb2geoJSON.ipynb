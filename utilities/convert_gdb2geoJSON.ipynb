{
 "cells": [
  {
   "cell_type": "markdown",
   "metadata": {},
   "source": [
    "## Preamble\n",
    "\n",
    "Script to convert Alaska POIs to geoJSON."
   ]
  },
  {
   "cell_type": "code",
   "execution_count": 2,
   "metadata": {},
   "outputs": [],
   "source": [
    "import geopandas as gpd"
   ]
  },
  {
   "cell_type": "code",
   "execution_count": 13,
   "metadata": {},
   "outputs": [],
   "source": [
    "datfl = '/home/tbarnhart/Downloads/ak_gf_v1_1.gdb'\n",
    "toCRS = 4326\n",
    "outfl = '../ak_pois.geojson'"
   ]
  },
  {
   "cell_type": "code",
   "execution_count": 20,
   "metadata": {},
   "outputs": [],
   "source": [
    "dat = gpd.read_file(datfl, layer = 'pois')"
   ]
  },
  {
   "cell_type": "code",
   "execution_count": 21,
   "metadata": {},
   "outputs": [],
   "source": [
    "columns = ['stationID','stationName','status','AltStationID','geometry']"
   ]
  },
  {
   "cell_type": "code",
   "execution_count": 22,
   "metadata": {},
   "outputs": [],
   "source": [
    "dat.columns = columns"
   ]
  },
  {
   "cell_type": "code",
   "execution_count": 23,
   "metadata": {},
   "outputs": [
    {
     "data": {
      "text/plain": [
       "{'init': 'epsg:3338'}"
      ]
     },
     "execution_count": 23,
     "metadata": {},
     "output_type": "execute_result"
    }
   ],
   "source": [
    "dat.crs"
   ]
  },
  {
   "cell_type": "code",
   "execution_count": 24,
   "metadata": {},
   "outputs": [],
   "source": [
    "dat = dat.to_crs(epsg=toCRS)"
   ]
  },
  {
   "cell_type": "code",
   "execution_count": 25,
   "metadata": {},
   "outputs": [],
   "source": [
    "dat.to_file(outfl, driver = 'GeoJSON')"
   ]
  },
  {
   "cell_type": "code",
   "execution_count": 26,
   "metadata": {},
   "outputs": [
    {
     "data": {
      "text/html": [
       "<div>\n",
       "<style scoped>\n",
       "    .dataframe tbody tr th:only-of-type {\n",
       "        vertical-align: middle;\n",
       "    }\n",
       "\n",
       "    .dataframe tbody tr th {\n",
       "        vertical-align: top;\n",
       "    }\n",
       "\n",
       "    .dataframe thead th {\n",
       "        text-align: right;\n",
       "    }\n",
       "</style>\n",
       "<table border=\"1\" class=\"dataframe\">\n",
       "  <thead>\n",
       "    <tr style=\"text-align: right;\">\n",
       "      <th></th>\n",
       "      <th>stationID</th>\n",
       "      <th>stationName</th>\n",
       "      <th>status</th>\n",
       "      <th>AltStationID</th>\n",
       "      <th>geometry</th>\n",
       "    </tr>\n",
       "  </thead>\n",
       "  <tbody>\n",
       "    <tr>\n",
       "      <th>0</th>\n",
       "      <td>15008000</td>\n",
       "      <td>SALMON R NR HYDER AK</td>\n",
       "      <td>Potentially Active</td>\n",
       "      <td>None</td>\n",
       "      <td>POINT (-130.0669822996637 56.02581499987006)</td>\n",
       "    </tr>\n",
       "    <tr>\n",
       "      <th>1</th>\n",
       "      <td>15009000</td>\n",
       "      <td>SOULE R NR HYDER AK</td>\n",
       "      <td>Inactive</td>\n",
       "      <td>None</td>\n",
       "      <td>POINT (-130.1833692993555 55.83302857000533)</td>\n",
       "    </tr>\n",
       "    <tr>\n",
       "      <th>2</th>\n",
       "      <td>15011870</td>\n",
       "      <td>WHITE C NR KETCHIKAN AK</td>\n",
       "      <td>Inactive</td>\n",
       "      <td>None</td>\n",
       "      <td>POINT (-130.4622504000491 55.41384249956297)</td>\n",
       "    </tr>\n",
       "    <tr>\n",
       "      <th>3</th>\n",
       "      <td>15011880</td>\n",
       "      <td>KETA R NR KETCHIKAN AK</td>\n",
       "      <td>Inactive</td>\n",
       "      <td>None</td>\n",
       "      <td>POINT (-130.4505823999227 55.35328740005386)</td>\n",
       "    </tr>\n",
       "    <tr>\n",
       "      <th>4</th>\n",
       "      <td>15011894</td>\n",
       "      <td>BLOSSOM R NR KETCHIKAN AK</td>\n",
       "      <td>Inactive</td>\n",
       "      <td>None</td>\n",
       "      <td>POINT (-130.5628062992521 55.4257816902863)</td>\n",
       "    </tr>\n",
       "  </tbody>\n",
       "</table>\n",
       "</div>"
      ],
      "text/plain": [
       "  stationID                stationName              status AltStationID  \\\n",
       "0  15008000       SALMON R NR HYDER AK  Potentially Active         None   \n",
       "1  15009000        SOULE R NR HYDER AK            Inactive         None   \n",
       "2  15011870    WHITE C NR KETCHIKAN AK            Inactive         None   \n",
       "3  15011880     KETA R NR KETCHIKAN AK            Inactive         None   \n",
       "4  15011894  BLOSSOM R NR KETCHIKAN AK            Inactive         None   \n",
       "\n",
       "                                       geometry  \n",
       "0  POINT (-130.0669822996637 56.02581499987006)  \n",
       "1  POINT (-130.1833692993555 55.83302857000533)  \n",
       "2  POINT (-130.4622504000491 55.41384249956297)  \n",
       "3  POINT (-130.4505823999227 55.35328740005386)  \n",
       "4   POINT (-130.5628062992521 55.4257816902863)  "
      ]
     },
     "execution_count": 26,
     "metadata": {},
     "output_type": "execute_result"
    }
   ],
   "source": [
    "dat.head()"
   ]
  },
  {
   "cell_type": "code",
   "execution_count": 27,
   "metadata": {},
   "outputs": [],
   "source": [
    "dat2 = gpd.read_file(outfl)"
   ]
  },
  {
   "cell_type": "code",
   "execution_count": 28,
   "metadata": {},
   "outputs": [
    {
     "data": {
      "text/html": [
       "<div>\n",
       "<style scoped>\n",
       "    .dataframe tbody tr th:only-of-type {\n",
       "        vertical-align: middle;\n",
       "    }\n",
       "\n",
       "    .dataframe tbody tr th {\n",
       "        vertical-align: top;\n",
       "    }\n",
       "\n",
       "    .dataframe thead th {\n",
       "        text-align: right;\n",
       "    }\n",
       "</style>\n",
       "<table border=\"1\" class=\"dataframe\">\n",
       "  <thead>\n",
       "    <tr style=\"text-align: right;\">\n",
       "      <th></th>\n",
       "      <th>stationID</th>\n",
       "      <th>stationName</th>\n",
       "      <th>status</th>\n",
       "      <th>AltStationID</th>\n",
       "      <th>geometry</th>\n",
       "    </tr>\n",
       "  </thead>\n",
       "  <tbody>\n",
       "    <tr>\n",
       "      <th>0</th>\n",
       "      <td>15008000</td>\n",
       "      <td>SALMON R NR HYDER AK</td>\n",
       "      <td>Potentially Active</td>\n",
       "      <td>None</td>\n",
       "      <td>POINT (-130.0669822996637 56.02581499987006)</td>\n",
       "    </tr>\n",
       "    <tr>\n",
       "      <th>1</th>\n",
       "      <td>15009000</td>\n",
       "      <td>SOULE R NR HYDER AK</td>\n",
       "      <td>Inactive</td>\n",
       "      <td>None</td>\n",
       "      <td>POINT (-130.1833692993555 55.83302857000533)</td>\n",
       "    </tr>\n",
       "    <tr>\n",
       "      <th>2</th>\n",
       "      <td>15011870</td>\n",
       "      <td>WHITE C NR KETCHIKAN AK</td>\n",
       "      <td>Inactive</td>\n",
       "      <td>None</td>\n",
       "      <td>POINT (-130.4622504000491 55.41384249956297)</td>\n",
       "    </tr>\n",
       "    <tr>\n",
       "      <th>3</th>\n",
       "      <td>15011880</td>\n",
       "      <td>KETA R NR KETCHIKAN AK</td>\n",
       "      <td>Inactive</td>\n",
       "      <td>None</td>\n",
       "      <td>POINT (-130.4505823999227 55.35328740005386)</td>\n",
       "    </tr>\n",
       "    <tr>\n",
       "      <th>4</th>\n",
       "      <td>15011894</td>\n",
       "      <td>BLOSSOM R NR KETCHIKAN AK</td>\n",
       "      <td>Inactive</td>\n",
       "      <td>None</td>\n",
       "      <td>POINT (-130.5628062992521 55.4257816902863)</td>\n",
       "    </tr>\n",
       "  </tbody>\n",
       "</table>\n",
       "</div>"
      ],
      "text/plain": [
       "  stationID                stationName              status AltStationID  \\\n",
       "0  15008000       SALMON R NR HYDER AK  Potentially Active         None   \n",
       "1  15009000        SOULE R NR HYDER AK            Inactive         None   \n",
       "2  15011870    WHITE C NR KETCHIKAN AK            Inactive         None   \n",
       "3  15011880     KETA R NR KETCHIKAN AK            Inactive         None   \n",
       "4  15011894  BLOSSOM R NR KETCHIKAN AK            Inactive         None   \n",
       "\n",
       "                                       geometry  \n",
       "0  POINT (-130.0669822996637 56.02581499987006)  \n",
       "1  POINT (-130.1833692993555 55.83302857000533)  \n",
       "2  POINT (-130.4622504000491 55.41384249956297)  \n",
       "3  POINT (-130.4505823999227 55.35328740005386)  \n",
       "4   POINT (-130.5628062992521 55.4257816902863)  "
      ]
     },
     "execution_count": 28,
     "metadata": {},
     "output_type": "execute_result"
    }
   ],
   "source": [
    "dat2.head()"
   ]
  },
  {
   "cell_type": "code",
   "execution_count": 16,
   "metadata": {},
   "outputs": [
    {
     "data": {
      "text/plain": [
       "<matplotlib.axes._subplots.AxesSubplot at 0x7fef87a75110>"
      ]
     },
     "execution_count": 16,
     "metadata": {},
     "output_type": "execute_result"
    },
    {
     "data": {
      "image/png": "[encoded data removed]",
      "text/plain": [
       "<Figure size 432x288 with 1 Axes>"
      ]
     },
     "metadata": {
      "needs_background": "light"
     },
     "output_type": "display_data"
    }
   ],
   "source": [
    "dat2.plot()"
   ]
  },
  {
   "cell_type": "code",
   "execution_count": 18,
   "metadata": {},
   "outputs": [],
   "source": [
    "import fiona"
   ]
  },
  {
   "cell_type": "code",
   "execution_count": null,
   "metadata": {},
   "outputs": [],
   "source": [
    "fiona.open()"
   ]
  }
 ],
 "metadata": {
  "kernelspec": {
   "display_name": "Python 3",
   "language": "python",
   "name": "python3"
  },
  "language_info": {
   "codemirror_mode": {
    "name": "ipython",
    "version": 3
   },
   "file_extension": ".py",
   "mimetype": "text/x-python",
   "name": "python",
   "nbconvert_exporter": "python",
   "pygments_lexer": "ipython3",
   "version": "3.7.4"
  }
 },
 "nbformat": 4,
 "nbformat_minor": 2
}
